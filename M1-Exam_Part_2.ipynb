{
 "cells": [
  {
   "cell_type": "markdown",
   "metadata": {},
   "source": [
    "# **M1 Exam Submission part 2**\n",
    "\n",
    "## **Table of Contents**\n",
    "\n",
    "#### I. Import Libraries and Data\n",
    "#### II. Data Preparation\n",
    "#### III. Model Development\n",
    "#### IV. Model Evaluation"
   ]
  },
  {
   "cell_type": "markdown",
   "metadata": {},
   "source": [
    "### Funding Duration Prediction:\n",
    "### Target: funding_duration_days (Time to Secure Loan)\n",
    "\n",
    "### Problem Statement:\n",
    "\n",
    "The objective is to predict how long it will take for a loan request to be fully funded, based on factors such as the borrower's country, sector, activity type, loan amount, and number of lenders. By understanding these relationships, the model can provide insights into which factors lead to faster or slower funding times.\n",
    "Type of Model:\n",
    "The model will use regression, as the target variable (funding_duration_days) represents a continuous numerical value. The goal is to predict the number of days required to secure full funding for a loan based on the given features.\n",
    "### Objective:\n",
    "This model aims to assist lending platforms and financial institutions in forecasting how long a loan will take to be fully funded after a request is made. This can help in optimizing loan approval strategies, better managing borrower expectations, and allocating resources efficiently to improve funding success rates."
   ]
  },
  {
   "cell_type": "code",
   "execution_count": 5,
   "metadata": {},
   "outputs": [
    {
     "name": "stdout",
     "output_type": "stream",
     "text": [
      "Requirement already satisfied: pandas in /home/codespace/.local/lib/python3.12/site-packages (from -r requirements.txt (line 2)) (2.2.3)\n",
      "Requirement already satisfied: numpy in /usr/local/python/3.12.1/lib/python3.12/site-packages (from -r requirements.txt (line 3)) (2.0.2)\n",
      "Requirement already satisfied: matplotlib in /home/codespace/.local/lib/python3.12/site-packages (from -r requirements.txt (line 4)) (3.9.2)\n",
      "Requirement already satisfied: seaborn in /home/codespace/.local/lib/python3.12/site-packages (from -r requirements.txt (line 5)) (0.13.2)\n",
      "Requirement already satisfied: scikit-learn in /home/codespace/.local/lib/python3.12/site-packages (from -r requirements.txt (line 6)) (1.5.2)\n",
      "Requirement already satisfied: umap-learn in /usr/local/python/3.12.1/lib/python3.12/site-packages (from -r requirements.txt (line 7)) (0.5.6)\n",
      "Requirement already satisfied: geopandas in /usr/local/python/3.12.1/lib/python3.12/site-packages (from -r requirements.txt (line 8)) (1.0.1)\n",
      "Requirement already satisfied: altair in /usr/local/python/3.12.1/lib/python3.12/site-packages (from -r requirements.txt (line 9)) (5.4.1)\n",
      "Requirement already satisfied: vega-datasets in /usr/local/python/3.12.1/lib/python3.12/site-packages (from -r requirements.txt (line 10)) (0.9.0)\n",
      "Requirement already satisfied: lime in /usr/local/python/3.12.1/lib/python3.12/site-packages (from -r requirements.txt (line 13)) (0.2.0.1)\n",
      "Requirement already satisfied: shap in /usr/local/python/3.12.1/lib/python3.12/site-packages (from -r requirements.txt (line 14)) (0.46.0)\n",
      "Requirement already satisfied: pdpbox in /usr/local/python/3.12.1/lib/python3.12/site-packages (from -r requirements.txt (line 15)) (0.3.0)\n",
      "Requirement already satisfied: mlxtend in /usr/local/python/3.12.1/lib/python3.12/site-packages (from -r requirements.txt (line 16)) (0.23.1)\n",
      "Requirement already satisfied: gradio in /usr/local/python/3.12.1/lib/python3.12/site-packages (from -r requirements.txt (line 19)) (4.44.1)\n",
      "Requirement already satisfied: streamlit in /usr/local/python/3.12.1/lib/python3.12/site-packages (from -r requirements.txt (line 20)) (1.38.0)\n",
      "Requirement already satisfied: python-dateutil>=2.8.2 in /home/codespace/.local/lib/python3.12/site-packages (from pandas->-r requirements.txt (line 2)) (2.9.0.post0)\n",
      "Requirement already satisfied: pytz>=2020.1 in /home/codespace/.local/lib/python3.12/site-packages (from pandas->-r requirements.txt (line 2)) (2024.2)\n",
      "Requirement already satisfied: tzdata>=2022.7 in /home/codespace/.local/lib/python3.12/site-packages (from pandas->-r requirements.txt (line 2)) (2024.2)\n",
      "Requirement already satisfied: contourpy>=1.0.1 in /home/codespace/.local/lib/python3.12/site-packages (from matplotlib->-r requirements.txt (line 4)) (1.3.0)\n",
      "Requirement already satisfied: cycler>=0.10 in /home/codespace/.local/lib/python3.12/site-packages (from matplotlib->-r requirements.txt (line 4)) (0.12.1)\n",
      "Requirement already satisfied: fonttools>=4.22.0 in /home/codespace/.local/lib/python3.12/site-packages (from matplotlib->-r requirements.txt (line 4)) (4.54.1)\n",
      "Requirement already satisfied: kiwisolver>=1.3.1 in /home/codespace/.local/lib/python3.12/site-packages (from matplotlib->-r requirements.txt (line 4)) (1.4.7)\n",
      "Requirement already satisfied: packaging>=20.0 in /home/codespace/.local/lib/python3.12/site-packages (from matplotlib->-r requirements.txt (line 4)) (24.1)\n",
      "Requirement already satisfied: pillow>=8 in /home/codespace/.local/lib/python3.12/site-packages (from matplotlib->-r requirements.txt (line 4)) (10.4.0)\n",
      "Requirement already satisfied: pyparsing>=2.3.1 in /home/codespace/.local/lib/python3.12/site-packages (from matplotlib->-r requirements.txt (line 4)) (3.1.4)\n",
      "Requirement already satisfied: scipy>=1.6.0 in /home/codespace/.local/lib/python3.12/site-packages (from scikit-learn->-r requirements.txt (line 6)) (1.14.1)\n",
      "Requirement already satisfied: joblib>=1.2.0 in /home/codespace/.local/lib/python3.12/site-packages (from scikit-learn->-r requirements.txt (line 6)) (1.4.2)\n",
      "Requirement already satisfied: threadpoolctl>=3.1.0 in /home/codespace/.local/lib/python3.12/site-packages (from scikit-learn->-r requirements.txt (line 6)) (3.5.0)\n",
      "Requirement already satisfied: numba>=0.51.2 in /usr/local/python/3.12.1/lib/python3.12/site-packages (from umap-learn->-r requirements.txt (line 7)) (0.60.0)\n",
      "Requirement already satisfied: pynndescent>=0.5 in /usr/local/python/3.12.1/lib/python3.12/site-packages (from umap-learn->-r requirements.txt (line 7)) (0.5.13)\n",
      "Requirement already satisfied: tqdm in /usr/local/python/3.12.1/lib/python3.12/site-packages (from umap-learn->-r requirements.txt (line 7)) (4.66.5)\n",
      "Requirement already satisfied: pyogrio>=0.7.2 in /usr/local/python/3.12.1/lib/python3.12/site-packages (from geopandas->-r requirements.txt (line 8)) (0.10.0)\n",
      "Requirement already satisfied: pyproj>=3.3.0 in /usr/local/python/3.12.1/lib/python3.12/site-packages (from geopandas->-r requirements.txt (line 8)) (3.7.0)\n",
      "Requirement already satisfied: shapely>=2.0.0 in /usr/local/python/3.12.1/lib/python3.12/site-packages (from geopandas->-r requirements.txt (line 8)) (2.0.6)\n",
      "Requirement already satisfied: jinja2 in /home/codespace/.local/lib/python3.12/site-packages (from altair->-r requirements.txt (line 9)) (3.1.4)\n",
      "Requirement already satisfied: jsonschema>=3.0 in /home/codespace/.local/lib/python3.12/site-packages (from altair->-r requirements.txt (line 9)) (4.23.0)\n",
      "Requirement already satisfied: narwhals>=1.5.2 in /usr/local/python/3.12.1/lib/python3.12/site-packages (from altair->-r requirements.txt (line 9)) (1.9.0)\n",
      "Requirement already satisfied: typing-extensions>=4.10.0 in /usr/local/python/3.12.1/lib/python3.12/site-packages (from altair->-r requirements.txt (line 9)) (4.12.2)\n",
      "Requirement already satisfied: scikit-image>=0.12 in /usr/local/python/3.12.1/lib/python3.12/site-packages (from lime->-r requirements.txt (line 13)) (0.24.0)\n",
      "Requirement already satisfied: slicer==0.0.8 in /usr/local/python/3.12.1/lib/python3.12/site-packages (from shap->-r requirements.txt (line 14)) (0.0.8)\n",
      "Requirement already satisfied: cloudpickle in /usr/local/python/3.12.1/lib/python3.12/site-packages (from shap->-r requirements.txt (line 14)) (3.0.0)\n",
      "Requirement already satisfied: plotly>=5.9.0 in /home/codespace/.local/lib/python3.12/site-packages (from pdpbox->-r requirements.txt (line 15)) (5.24.1)\n",
      "Requirement already satisfied: pqdm>=0.2.0 in /usr/local/python/3.12.1/lib/python3.12/site-packages (from pdpbox->-r requirements.txt (line 15)) (0.2.0)\n",
      "Requirement already satisfied: psutil>=5.9.0 in /home/codespace/.local/lib/python3.12/site-packages (from pdpbox->-r requirements.txt (line 15)) (6.0.0)\n",
      "Requirement already satisfied: pytest in /usr/local/python/3.12.1/lib/python3.12/site-packages (from pdpbox->-r requirements.txt (line 15)) (8.3.3)\n",
      "Requirement already satisfied: setuptools in /home/codespace/.local/lib/python3.12/site-packages (from pdpbox->-r requirements.txt (line 15)) (75.1.0)\n",
      "Requirement already satisfied: sphinx>=5.0.2 in /usr/local/python/3.12.1/lib/python3.12/site-packages (from pdpbox->-r requirements.txt (line 15)) (7.4.7)\n",
      "Requirement already satisfied: sphinx-rtd-theme>=1.1.1 in /usr/local/python/3.12.1/lib/python3.12/site-packages (from pdpbox->-r requirements.txt (line 15)) (2.0.0)\n",
      "Requirement already satisfied: numpydoc>=1.4.0 in /usr/local/python/3.12.1/lib/python3.12/site-packages (from pdpbox->-r requirements.txt (line 15)) (1.8.0)\n",
      "Requirement already satisfied: xgboost>=1.7.1 in /usr/local/python/3.12.1/lib/python3.12/site-packages (from pdpbox->-r requirements.txt (line 15)) (2.1.1)\n",
      "Requirement already satisfied: aiofiles<24.0,>=22.0 in /usr/local/python/3.12.1/lib/python3.12/site-packages (from gradio->-r requirements.txt (line 19)) (23.2.1)\n",
      "Requirement already satisfied: anyio<5.0,>=3.0 in /home/codespace/.local/lib/python3.12/site-packages (from gradio->-r requirements.txt (line 19)) (4.6.0)\n",
      "Requirement already satisfied: fastapi<1.0 in /usr/local/python/3.12.1/lib/python3.12/site-packages (from gradio->-r requirements.txt (line 19)) (0.115.0)\n",
      "Requirement already satisfied: ffmpy in /usr/local/python/3.12.1/lib/python3.12/site-packages (from gradio->-r requirements.txt (line 19)) (0.4.0)\n",
      "Requirement already satisfied: gradio-client==1.3.0 in /usr/local/python/3.12.1/lib/python3.12/site-packages (from gradio->-r requirements.txt (line 19)) (1.3.0)\n",
      "Requirement already satisfied: httpx>=0.24.1 in /home/codespace/.local/lib/python3.12/site-packages (from gradio->-r requirements.txt (line 19)) (0.27.2)\n",
      "Requirement already satisfied: huggingface-hub>=0.19.3 in /usr/local/python/3.12.1/lib/python3.12/site-packages (from gradio->-r requirements.txt (line 19)) (0.25.1)\n",
      "Requirement already satisfied: importlib-resources<7.0,>=1.3 in /usr/local/python/3.12.1/lib/python3.12/site-packages (from gradio->-r requirements.txt (line 19)) (6.4.5)\n",
      "Requirement already satisfied: markupsafe~=2.0 in /home/codespace/.local/lib/python3.12/site-packages (from gradio->-r requirements.txt (line 19)) (2.1.5)\n",
      "Requirement already satisfied: orjson~=3.0 in /usr/local/python/3.12.1/lib/python3.12/site-packages (from gradio->-r requirements.txt (line 19)) (3.10.7)\n",
      "Requirement already satisfied: pydantic>=2.0 in /usr/local/python/3.12.1/lib/python3.12/site-packages (from gradio->-r requirements.txt (line 19)) (2.9.2)\n",
      "Requirement already satisfied: pydub in /usr/local/python/3.12.1/lib/python3.12/site-packages (from gradio->-r requirements.txt (line 19)) (0.25.1)\n",
      "Requirement already satisfied: python-multipart>=0.0.9 in /usr/local/python/3.12.1/lib/python3.12/site-packages (from gradio->-r requirements.txt (line 19)) (0.0.12)\n",
      "Requirement already satisfied: pyyaml<7.0,>=5.0 in /home/codespace/.local/lib/python3.12/site-packages (from gradio->-r requirements.txt (line 19)) (6.0.2)\n",
      "Requirement already satisfied: ruff>=0.2.2 in /usr/local/python/3.12.1/lib/python3.12/site-packages (from gradio->-r requirements.txt (line 19)) (0.6.8)\n",
      "Requirement already satisfied: semantic-version~=2.0 in /usr/local/python/3.12.1/lib/python3.12/site-packages (from gradio->-r requirements.txt (line 19)) (2.10.0)\n",
      "Requirement already satisfied: tomlkit==0.12.0 in /usr/local/python/3.12.1/lib/python3.12/site-packages (from gradio->-r requirements.txt (line 19)) (0.12.0)\n",
      "Requirement already satisfied: typer<1.0,>=0.12 in /usr/local/python/3.12.1/lib/python3.12/site-packages (from gradio->-r requirements.txt (line 19)) (0.12.5)\n",
      "Requirement already satisfied: urllib3~=2.0 in /home/codespace/.local/lib/python3.12/site-packages (from gradio->-r requirements.txt (line 19)) (2.2.3)\n",
      "Requirement already satisfied: uvicorn>=0.14.0 in /usr/local/python/3.12.1/lib/python3.12/site-packages (from gradio->-r requirements.txt (line 19)) (0.31.0)\n",
      "Requirement already satisfied: fsspec in /home/codespace/.local/lib/python3.12/site-packages (from gradio-client==1.3.0->gradio->-r requirements.txt (line 19)) (2024.2.0)\n",
      "Requirement already satisfied: websockets<13.0,>=10.0 in /usr/local/python/3.12.1/lib/python3.12/site-packages (from gradio-client==1.3.0->gradio->-r requirements.txt (line 19)) (12.0)\n",
      "Requirement already satisfied: blinker<2,>=1.0.0 in /usr/local/python/3.12.1/lib/python3.12/site-packages (from streamlit->-r requirements.txt (line 20)) (1.8.2)\n",
      "Requirement already satisfied: cachetools<6,>=4.0 in /usr/local/python/3.12.1/lib/python3.12/site-packages (from streamlit->-r requirements.txt (line 20)) (5.5.0)\n",
      "Requirement already satisfied: click<9,>=7.0 in /usr/local/python/3.12.1/lib/python3.12/site-packages (from streamlit->-r requirements.txt (line 20)) (8.1.7)\n",
      "Requirement already satisfied: protobuf<6,>=3.20 in /usr/local/python/3.12.1/lib/python3.12/site-packages (from streamlit->-r requirements.txt (line 20)) (5.28.2)\n",
      "Requirement already satisfied: pyarrow>=7.0 in /usr/local/python/3.12.1/lib/python3.12/site-packages (from streamlit->-r requirements.txt (line 20)) (17.0.0)\n",
      "Requirement already satisfied: requests<3,>=2.27 in /home/codespace/.local/lib/python3.12/site-packages (from streamlit->-r requirements.txt (line 20)) (2.32.3)\n",
      "Requirement already satisfied: rich<14,>=10.14.0 in /usr/local/python/3.12.1/lib/python3.12/site-packages (from streamlit->-r requirements.txt (line 20)) (13.9.1)\n",
      "Requirement already satisfied: tenacity<9,>=8.1.0 in /usr/local/python/3.12.1/lib/python3.12/site-packages (from streamlit->-r requirements.txt (line 20)) (8.5.0)\n",
      "Requirement already satisfied: toml<2,>=0.10.1 in /usr/local/python/3.12.1/lib/python3.12/site-packages (from streamlit->-r requirements.txt (line 20)) (0.10.2)\n",
      "Requirement already satisfied: gitpython!=3.1.19,<4,>=3.0.7 in /home/codespace/.local/lib/python3.12/site-packages (from streamlit->-r requirements.txt (line 20)) (3.1.43)\n",
      "Requirement already satisfied: pydeck<1,>=0.8.0b4 in /usr/local/python/3.12.1/lib/python3.12/site-packages (from streamlit->-r requirements.txt (line 20)) (0.9.1)\n",
      "Requirement already satisfied: tornado<7,>=6.0.3 in /home/codespace/.local/lib/python3.12/site-packages (from streamlit->-r requirements.txt (line 20)) (6.4.1)\n",
      "Requirement already satisfied: watchdog<5,>=2.1.5 in /usr/local/python/3.12.1/lib/python3.12/site-packages (from streamlit->-r requirements.txt (line 20)) (4.0.2)\n",
      "Requirement already satisfied: idna>=2.8 in /home/codespace/.local/lib/python3.12/site-packages (from anyio<5.0,>=3.0->gradio->-r requirements.txt (line 19)) (3.10)\n",
      "Requirement already satisfied: sniffio>=1.1 in /home/codespace/.local/lib/python3.12/site-packages (from anyio<5.0,>=3.0->gradio->-r requirements.txt (line 19)) (1.3.1)\n",
      "Requirement already satisfied: starlette<0.39.0,>=0.37.2 in /usr/local/python/3.12.1/lib/python3.12/site-packages (from fastapi<1.0->gradio->-r requirements.txt (line 19)) (0.38.6)\n",
      "Requirement already satisfied: gitdb<5,>=4.0.1 in /home/codespace/.local/lib/python3.12/site-packages (from gitpython!=3.1.19,<4,>=3.0.7->streamlit->-r requirements.txt (line 20)) (4.0.11)\n",
      "Requirement already satisfied: certifi in /home/codespace/.local/lib/python3.12/site-packages (from httpx>=0.24.1->gradio->-r requirements.txt (line 19)) (2024.8.30)\n",
      "Requirement already satisfied: httpcore==1.* in /home/codespace/.local/lib/python3.12/site-packages (from httpx>=0.24.1->gradio->-r requirements.txt (line 19)) (1.0.5)\n",
      "Requirement already satisfied: h11<0.15,>=0.13 in /home/codespace/.local/lib/python3.12/site-packages (from httpcore==1.*->httpx>=0.24.1->gradio->-r requirements.txt (line 19)) (0.14.0)\n",
      "Requirement already satisfied: filelock in /home/codespace/.local/lib/python3.12/site-packages (from huggingface-hub>=0.19.3->gradio->-r requirements.txt (line 19)) (3.13.1)\n",
      "Requirement already satisfied: attrs>=22.2.0 in /home/codespace/.local/lib/python3.12/site-packages (from jsonschema>=3.0->altair->-r requirements.txt (line 9)) (24.2.0)\n",
      "Requirement already satisfied: jsonschema-specifications>=2023.03.6 in /home/codespace/.local/lib/python3.12/site-packages (from jsonschema>=3.0->altair->-r requirements.txt (line 9)) (2023.12.1)\n",
      "Requirement already satisfied: referencing>=0.28.4 in /home/codespace/.local/lib/python3.12/site-packages (from jsonschema>=3.0->altair->-r requirements.txt (line 9)) (0.35.1)\n",
      "Requirement already satisfied: rpds-py>=0.7.1 in /home/codespace/.local/lib/python3.12/site-packages (from jsonschema>=3.0->altair->-r requirements.txt (line 9)) (0.20.0)\n",
      "Requirement already satisfied: llvmlite<0.44,>=0.43.0dev0 in /usr/local/python/3.12.1/lib/python3.12/site-packages (from numba>=0.51.2->umap-learn->-r requirements.txt (line 7)) (0.43.0)\n",
      "Requirement already satisfied: tabulate>=0.8.10 in /usr/local/python/3.12.1/lib/python3.12/site-packages (from numpydoc>=1.4.0->pdpbox->-r requirements.txt (line 15)) (0.9.0)\n",
      "Requirement already satisfied: bounded-pool-executor in /usr/local/python/3.12.1/lib/python3.12/site-packages (from pqdm>=0.2.0->pdpbox->-r requirements.txt (line 15)) (0.0.3)\n",
      "Requirement already satisfied: annotated-types>=0.6.0 in /usr/local/python/3.12.1/lib/python3.12/site-packages (from pydantic>=2.0->gradio->-r requirements.txt (line 19)) (0.7.0)\n",
      "Requirement already satisfied: pydantic-core==2.23.4 in /usr/local/python/3.12.1/lib/python3.12/site-packages (from pydantic>=2.0->gradio->-r requirements.txt (line 19)) (2.23.4)\n",
      "Requirement already satisfied: six>=1.5 in /home/codespace/.local/lib/python3.12/site-packages (from python-dateutil>=2.8.2->pandas->-r requirements.txt (line 2)) (1.16.0)\n",
      "Requirement already satisfied: charset-normalizer<4,>=2 in /home/codespace/.local/lib/python3.12/site-packages (from requests<3,>=2.27->streamlit->-r requirements.txt (line 20)) (3.3.2)\n",
      "Requirement already satisfied: markdown-it-py>=2.2.0 in /usr/local/python/3.12.1/lib/python3.12/site-packages (from rich<14,>=10.14.0->streamlit->-r requirements.txt (line 20)) (3.0.0)\n",
      "Requirement already satisfied: pygments<3.0.0,>=2.13.0 in /home/codespace/.local/lib/python3.12/site-packages (from rich<14,>=10.14.0->streamlit->-r requirements.txt (line 20)) (2.18.0)\n"
     ]
    },
    {
     "name": "stdout",
     "output_type": "stream",
     "text": [
      "Requirement already satisfied: networkx>=2.8 in /home/codespace/.local/lib/python3.12/site-packages (from scikit-image>=0.12->lime->-r requirements.txt (line 13)) (3.2.1)\n",
      "Requirement already satisfied: imageio>=2.33 in /usr/local/python/3.12.1/lib/python3.12/site-packages (from scikit-image>=0.12->lime->-r requirements.txt (line 13)) (2.35.1)\n",
      "Requirement already satisfied: tifffile>=2022.8.12 in /usr/local/python/3.12.1/lib/python3.12/site-packages (from scikit-image>=0.12->lime->-r requirements.txt (line 13)) (2024.9.20)\n",
      "Requirement already satisfied: lazy-loader>=0.4 in /usr/local/python/3.12.1/lib/python3.12/site-packages (from scikit-image>=0.12->lime->-r requirements.txt (line 13)) (0.4)\n",
      "Requirement already satisfied: sphinxcontrib-applehelp in /usr/local/python/3.12.1/lib/python3.12/site-packages (from sphinx>=5.0.2->pdpbox->-r requirements.txt (line 15)) (2.0.0)\n",
      "Requirement already satisfied: sphinxcontrib-devhelp in /usr/local/python/3.12.1/lib/python3.12/site-packages (from sphinx>=5.0.2->pdpbox->-r requirements.txt (line 15)) (2.0.0)\n",
      "Requirement already satisfied: sphinxcontrib-jsmath in /usr/local/python/3.12.1/lib/python3.12/site-packages (from sphinx>=5.0.2->pdpbox->-r requirements.txt (line 15)) (1.0.1)\n",
      "Requirement already satisfied: sphinxcontrib-htmlhelp>=2.0.0 in /usr/local/python/3.12.1/lib/python3.12/site-packages (from sphinx>=5.0.2->pdpbox->-r requirements.txt (line 15)) (2.1.0)\n",
      "Requirement already satisfied: sphinxcontrib-serializinghtml>=1.1.9 in /usr/local/python/3.12.1/lib/python3.12/site-packages (from sphinx>=5.0.2->pdpbox->-r requirements.txt (line 15)) (2.0.0)\n",
      "Requirement already satisfied: sphinxcontrib-qthelp in /usr/local/python/3.12.1/lib/python3.12/site-packages (from sphinx>=5.0.2->pdpbox->-r requirements.txt (line 15)) (2.0.0)\n",
      "Requirement already satisfied: docutils<0.22,>=0.20 in /usr/local/python/3.12.1/lib/python3.12/site-packages (from sphinx>=5.0.2->pdpbox->-r requirements.txt (line 15)) (0.20.1)\n",
      "Requirement already satisfied: snowballstemmer>=2.2 in /usr/local/python/3.12.1/lib/python3.12/site-packages (from sphinx>=5.0.2->pdpbox->-r requirements.txt (line 15)) (2.2.0)\n",
      "Requirement already satisfied: babel>=2.13 in /home/codespace/.local/lib/python3.12/site-packages (from sphinx>=5.0.2->pdpbox->-r requirements.txt (line 15)) (2.16.0)\n",
      "Requirement already satisfied: alabaster~=0.7.14 in /usr/local/python/3.12.1/lib/python3.12/site-packages (from sphinx>=5.0.2->pdpbox->-r requirements.txt (line 15)) (0.7.16)\n",
      "Requirement already satisfied: imagesize>=1.3 in /usr/local/python/3.12.1/lib/python3.12/site-packages (from sphinx>=5.0.2->pdpbox->-r requirements.txt (line 15)) (1.4.1)\n",
      "Requirement already satisfied: sphinxcontrib-jquery<5,>=4 in /usr/local/python/3.12.1/lib/python3.12/site-packages (from sphinx-rtd-theme>=1.1.1->pdpbox->-r requirements.txt (line 15)) (4.1)\n",
      "Requirement already satisfied: shellingham>=1.3.0 in /usr/local/python/3.12.1/lib/python3.12/site-packages (from typer<1.0,>=0.12->gradio->-r requirements.txt (line 19)) (1.5.4)\n",
      "Requirement already satisfied: nvidia-nccl-cu12 in /usr/local/python/3.12.1/lib/python3.12/site-packages (from xgboost>=1.7.1->pdpbox->-r requirements.txt (line 15)) (2.23.4)\n",
      "Requirement already satisfied: iniconfig in /usr/local/python/3.12.1/lib/python3.12/site-packages (from pytest->pdpbox->-r requirements.txt (line 15)) (2.0.0)\n",
      "Requirement already satisfied: pluggy<2,>=1.5 in /usr/local/python/3.12.1/lib/python3.12/site-packages (from pytest->pdpbox->-r requirements.txt (line 15)) (1.5.0)\n",
      "Requirement already satisfied: smmap<6,>=3.0.1 in /home/codespace/.local/lib/python3.12/site-packages (from gitdb<5,>=4.0.1->gitpython!=3.1.19,<4,>=3.0.7->streamlit->-r requirements.txt (line 20)) (5.0.1)\n",
      "Requirement already satisfied: mdurl~=0.1 in /usr/local/python/3.12.1/lib/python3.12/site-packages (from markdown-it-py>=2.2.0->rich<14,>=10.14.0->streamlit->-r requirements.txt (line 20)) (0.1.2)\n"
     ]
    }
   ],
   "source": [
    "# install all requried libraries\n",
    "!pip install -r requirements.txt"
   ]
  },
  {
   "cell_type": "code",
   "execution_count": 6,
   "metadata": {},
   "outputs": [],
   "source": [
    "#import libraries\n",
    "import pandas as pd\n",
    "import numpy as np\n",
    "import matplotlib.pyplot as plt\n",
    "import seaborn as sns\n",
    "from scipy.stats import zscore\n",
    "import geopandas as gpd\n",
    "import altair as alt\n",
    "from vega_datasets import data\n",
    "\n",
    "# library used for gender mapping - section 4\n",
    "import re"
   ]
  },
  {
   "cell_type": "code",
   "execution_count": 7,
   "metadata": {},
   "outputs": [
    {
     "name": "stdout",
     "output_type": "stream",
     "text": [
      "File ‘kiva_loans_part_0.csv.zip’ already there; not retrieving.\n",
      "\n",
      "File ‘kiva_loans_part_1.csv.zip’ already there; not retrieving.\n",
      "\n",
      "File ‘kiva_loans_part_2.csv.zip’ already there; not retrieving.\n",
      "\n",
      "Archive:  kiva_loans_part_0.csv.zip\n",
      "  inflating: kiva_loans_part_0.csv   \n",
      "  inflating: __MACOSX/._kiva_loans_part_0.csv  \n",
      "Archive:  kiva_loans_part_1.csv.zip\n",
      "  inflating: kiva_loans_part_1.csv   \n",
      "  inflating: __MACOSX/._kiva_loans_part_1.csv  \n",
      "Archive:  kiva_loans_part_2.csv.zip\n",
      "  inflating: kiva_loans_part_2.csv   \n",
      "  inflating: __MACOSX/._kiva_loans_part_2.csv  \n"
     ]
    }
   ],
   "source": [
    "!wget -nc \"https://github.com/aaubs/ds-master/raw/main/data/assignments_datasets/KIVA/kiva_loans_part_0.csv.zip\"\n",
    "!wget -nc \"https://github.com/aaubs/ds-master/raw/main/data/assignments_datasets/KIVA/kiva_loans_part_1.csv.zip\"\n",
    "!wget -nc \"https://github.com/aaubs/ds-master/raw/main/data/assignments_datasets/KIVA/kiva_loans_part_2.csv.zip\"\n",
    "\n",
    "# Unzip to csv\n",
    "!unzip -o kiva_loans_part_0.csv.zip\n",
    "!unzip -o kiva_loans_part_1.csv.zip\n",
    "!unzip -o kiva_loans_part_2.csv.zip\n",
    "\n",
    "# Loading datasets\n",
    "data_part1 = pd.read_csv(\"kiva_loans_part_0.csv\")\n",
    "data_part2 = pd.read_csv(\"kiva_loans_part_1.csv\")\n",
    "data_part3 = pd.read_csv(\"kiva_loans_part_2.csv\")"
   ]
  },
  {
   "cell_type": "code",
   "execution_count": 8,
   "metadata": {},
   "outputs": [],
   "source": [
    "# We can see, that the imported loan dataset consists of 3 parts. We will like to combine these to one big dataset\n",
    "data = pd.concat([data_part1, data_part2, data_part3])"
   ]
  },
  {
   "cell_type": "code",
   "execution_count": 9,
   "metadata": {},
   "outputs": [],
   "source": [
    "data = data.drop(['tags', 'use', 'currency', 'country_code'], axis=1)"
   ]
  },
  {
   "cell_type": "code",
   "execution_count": 10,
   "metadata": {},
   "outputs": [
    {
     "name": "stdout",
     "output_type": "stream",
     "text": [
      "Number of dropped rows: 97078\n",
      "In percentage 14.46 % of the data was removed\n"
     ]
    }
   ],
   "source": [
    "#Storing length of rows for comparing, >> before dropna.. <<\n",
    "data_rows = len(data)\n",
    "\n",
    "#Dropping missing values\n",
    "data.dropna(inplace=True)\n",
    "\n",
    "#Storing the now cleaned dataset\n",
    "cleaned_rows = len(data)\n",
    "\n",
    "#Check..\n",
    "drops = data_rows - cleaned_rows\n",
    "\n",
    "print(f\"Number of dropped rows: {drops}\")\n",
    "print(f'In percentage {(drops / data_rows) * 100:.2f} % of the data was removed')"
   ]
  },
  {
   "cell_type": "code",
   "execution_count": 11,
   "metadata": {},
   "outputs": [],
   "source": [
    "# Loans never funded\n",
    "data['funded_time'] = data['funded_time'].where(data['funded_time'].notna(), None)"
   ]
  },
  {
   "cell_type": "code",
   "execution_count": 12,
   "metadata": {},
   "outputs": [
    {
     "data": {
      "text/plain": [
       "np.int64(23129)"
      ]
     },
     "execution_count": 12,
     "metadata": {},
     "output_type": "execute_result"
    }
   ],
   "source": [
    "# Calculate Z-scores\n",
    "z_scores = zscore(data['loan_amount'])\n",
    "\n",
    "# Get boolean array indicating the presence of outliers\n",
    "# Using 2 & -2 z_scores to get 95% of data within 2 standard deviations\n",
    "data['outlier_loan_amount'] = (z_scores > 2) | (z_scores < -2)\n",
    "\n",
    "\n",
    "#Removing outliers\n",
    "data_clean = data[~data['outlier_loan_amount']]\n",
    "\n",
    "# Check amount of outliers (if any?)\n",
    "data['outlier_loan_amount'].sum()"
   ]
  },
  {
   "cell_type": "code",
   "execution_count": 13,
   "metadata": {},
   "outputs": [
    {
     "name": "stdout",
     "output_type": "stream",
     "text": [
      "Total Male loans 101344\n",
      "Total Female loans 374745\n"
     ]
    }
   ],
   "source": [
    "male = data_clean[data_clean['borrower_genders'] == 'male']\n",
    "female = data_clean[data_clean['borrower_genders'] == 'female']\n",
    "print ('Total Male loans',male.shape[0])\n",
    "print ('Total Female loans',female.shape[0])"
   ]
  },
  {
   "cell_type": "markdown",
   "metadata": {},
   "source": [
    "## SML Preparation"
   ]
  },
  {
   "cell_type": "code",
   "execution_count": 14,
   "metadata": {},
   "outputs": [],
   "source": [
    "# Libs needed for section 7 (some already imported)\n",
    "from sklearn.preprocessing import LabelEncoder\n",
    "from sklearn.preprocessing import StandardScaler, OneHotEncoder\n",
    "from sklearn.metrics import confusion_matrix\n",
    "from sklearn.metrics import classification_report\n",
    "from sklearn.compose import ColumnTransformer\n",
    "\n",
    "# Import the confusion matrix plotter module\n",
    "from mlxtend.plotting import plot_confusion_matrix\n",
    "\n",
    "#  Model selection & Regression\n",
    "from sklearn.metrics import mean_squared_error, mean_absolute_error, r2_score\n",
    "from sklearn.model_selection import train_test_split, GridSearchCV, TimeSeriesSplit\n",
    "from sklearn.linear_model import LogisticRegression\n",
    "from sklearn.linear_model import LinearRegression\n",
    "from sklearn.ensemble import RandomForestRegressor, RandomForestClassifier\n",
    "from sklearn.preprocessing import FunctionTransformer\n",
    "from sklearn.model_selection import cross_val_score\n",
    "\n",
    "# pipeline for the different models\n",
    "from sklearn.pipeline import Pipeline\n",
    "\n",
    "# decision Tree\n",
    "from sklearn.tree import DecisionTreeRegressor\n",
    "\n",
    "# tabular data explanation with LIME\n",
    "import lime.lime_tabular  \n",
    "\n",
    "# install shap & import\n",
    "!pip install lime shap pdpbox -qqq"
   ]
  },
  {
   "cell_type": "code",
   "execution_count": null,
   "metadata": {},
   "outputs": [],
   "source": [
    "# it's a good idea to check the correlation matrix, to check if relevant columns may correlate to much with others\n",
    "numeric_columns = loans.select_dtypes(include=[np.number]).columns\n",
    "\n",
    "# Beregn korrelationsmatrix\n",
    "corr_matrix = loans[numeric_columns].corr()\n",
    "\n",
    "# Plot korrelationsmatrix\n",
    "plt.figure(figsize=(12, 10))\n",
    "sns.heatmap(corr_matrix, annot=True, cmap='coolwarm', vmin=-1, vmax=1, center=0)\n",
    "plt.title('Correlation Matrix for Numeric Columns in Loans Dataset')\n",
    "plt.tight_layout()\n",
    "plt.show()"
   ]
  }
 ],
 "metadata": {
  "kernelspec": {
   "display_name": "Python 3",
   "language": "python",
   "name": "python3"
  },
  "language_info": {
   "codemirror_mode": {
    "name": "ipython",
    "version": 3
   },
   "file_extension": ".py",
   "mimetype": "text/x-python",
   "name": "python",
   "nbconvert_exporter": "python",
   "pygments_lexer": "ipython3",
   "version": "3.12.1"
  }
 },
 "nbformat": 4,
 "nbformat_minor": 2
}
