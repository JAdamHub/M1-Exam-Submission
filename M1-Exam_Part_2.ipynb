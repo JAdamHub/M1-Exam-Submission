{
 "cells": [
  {
   "cell_type": "markdown",
   "metadata": {},
   "source": [
    "# **M1 Exam Submission part 2**\n",
    "\n",
    "## **Table of Contents**\n",
    "\n",
    "#### I. Import Libraries and Data\n",
    "#### II. Data Preparation\n",
    "#### III. Model Development\n",
    "#### IV. Model Evaluation"
   ]
  },
  {
   "cell_type": "markdown",
   "metadata": {},
   "source": [
    "### Funding Duration Prediction:\n",
    "### Target: funding_duration_days (Time to Secure Loan)\n",
    "\n",
    "### Problem Statement:\n",
    "\n",
    "The objective is to predict how long it will take for a loan request to be fully funded, based on factors such as the borrower's country, sector, activity type, loan amount, and number of lenders. By understanding these relationships, the model can provide insights into which factors lead to faster or slower funding times.\n",
    "Type of Model:\n",
    "The model will use regression, as the target variable (funding_duration_days) represents a continuous numerical value. The goal is to predict the number of days required to secure full funding for a loan based on the given features.\n",
    "### Objective:\n",
    "This model aims to assist lending platforms and financial institutions in forecasting how long a loan will take to be fully funded after a request is made. This can help in optimizing loan approval strategies, better managing borrower expectations, and allocating resources efficiently to improve funding success rates."
   ]
  }
 ],
 "metadata": {
  "language_info": {
   "name": "python"
  }
 },
 "nbformat": 4,
 "nbformat_minor": 2
}
